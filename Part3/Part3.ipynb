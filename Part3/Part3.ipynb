{
 "cells": [
  {
   "cell_type": "code",
   "execution_count": 2,
   "metadata": {},
   "outputs": [],
   "source": [
    "import cv2\n",
    "import numpy as np\n",
    "from os import listdir\n",
    "import matplotlib.pyplot as plt\n",
    "from os.path import isfile, join\n",
    "from sklearn import svm"
   ]
  },
  {
   "cell_type": "code",
   "execution_count": 3,
   "metadata": {},
   "outputs": [],
   "source": [
    "number_of_train_img = 200"
   ]
  },
  {
   "cell_type": "code",
   "execution_count": 4,
   "metadata": {},
   "outputs": [],
   "source": [
    "default_path =\"D:\\\\term6\\\\AI\\\\Project4\\\\Part3\\\\persian_LPR\\\\\"\n",
    "folders_name = ['2','3','7','S','W']\n",
    "train_x = []\n",
    "train_y = []\n",
    "test_x= []\n",
    "test_y =[]\n",
    "for char in folders_name:\n",
    "    train_path = default_path+char\n",
    "    train_files = [f for f in listdir(train_path) if isfile(join(train_path, f))]\n",
    "\n",
    "    for i in range(len(train_files)):\n",
    "        file = train_files[i]\n",
    "        img = cv2.imread(train_path+\"\\\\\"+str(file),0)\n",
    "        img_np = np.array(img)\n",
    "        img_np = img_np.reshape(256)\n",
    "        # img_np2 = np.reshape(img, [256, 1]) #256 D \n",
    "        if i<number_of_train_img:\n",
    "            train_y.append(char)\n",
    "            train_x.append(img_np)\n",
    "        else:\n",
    "            test_y.append(char)\n",
    "            test_x.append(img_np)\n",
    "\n",
    "train_x = np.array(train_x)\n",
    "train_y = np.array(train_y)\n",
    "\n",
    "test_x = np.array(test_x)\n",
    "test_y = np.array(test_y)\n",
    "# print(test_x[0:10])\n",
    "# print(test_y[0:10])\n",
    "\n",
    "# print(test_x[100:110])\n",
    "# print(test_y[100:110])\n"
   ]
  },
  {
   "cell_type": "code",
   "execution_count": 10,
   "metadata": {},
   "outputs": [
    {
     "name": "stdout",
     "output_type": "stream",
     "text": [
      "kernel:poly                    96.8\n",
      "kernel:linear                  94.4\n"
     ]
    }
   ],
   "source": [
    "model = svm.SVC(kernel='poly')\n",
    "model.fit(train_x, train_y.ravel())\n",
    "predict_result = model.predict(test_x)\n",
    "\n",
    "count = 0\n",
    "total = len(predict_result)\n",
    "for i in range(len(test_y)):\n",
    "    if test_y[i]==predict_result[i]:\n",
    "        count+=1\n",
    "print('kernel:poly                    '+str(100*count/total))\n",
    "# -----------------------------------------\n",
    "model = svm.SVC(kernel='linear')\n",
    "model.fit(train_x, train_y.ravel())\n",
    "predict_result = model.predict(test_x)\n",
    "\n",
    "count = 0\n",
    "total = len(predict_result)\n",
    "for i in range(len(test_y)):\n",
    "    if test_y[i]==predict_result[i]:\n",
    "        count+=1\n",
    "print('kernel:linear                  '+str(100*count/total))\n",
    "# ---------------------------------------------\n",
    "# model = svm.SVC(kernel='sigmoid')\n",
    "# model.fit(train_x, train_y.ravel())\n",
    "# predict_result = model.predict(test_x)\n",
    "\n",
    "# count = 0\n",
    "# total = len(predict_result)\n",
    "# for i in range(len(test_y)):\n",
    "#     if test_y[i]==predict_result[i]:\n",
    "#         count+=1\n",
    "# print('kernel:sigmoid                 '+str(100*count/total))"
   ]
  }
 ],
 "metadata": {
  "kernelspec": {
   "display_name": "base",
   "language": "python",
   "name": "python3"
  },
  "language_info": {
   "codemirror_mode": {
    "name": "ipython",
    "version": 3
   },
   "file_extension": ".py",
   "mimetype": "text/x-python",
   "name": "python",
   "nbconvert_exporter": "python",
   "pygments_lexer": "ipython3",
   "version": "3.9.12"
  },
  "orig_nbformat": 4
 },
 "nbformat": 4,
 "nbformat_minor": 2
}
