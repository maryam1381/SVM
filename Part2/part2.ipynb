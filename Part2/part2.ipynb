{
 "cells": [
  {
   "cell_type": "code",
   "execution_count": 24,
   "metadata": {},
   "outputs": [],
   "source": [
    "import cv2\n",
    "import numpy as np\n",
    "from os import listdir\n",
    "import matplotlib.pyplot as plt\n",
    "from os.path import isfile, join\n",
    "from sklearn import svm"
   ]
  },
  {
   "attachments": {},
   "cell_type": "markdown",
   "metadata": {},
   "source": [
    "Load Train Images"
   ]
  },
  {
   "cell_type": "code",
   "execution_count": 25,
   "metadata": {},
   "outputs": [],
   "source": [
    "image_train_path = 'D:\\\\term6\\\\AI\\\\Project4\\\\Part2\\\\images\\\\train'\n",
    "train_files = [f for f in listdir(image_train_path) if isfile(join(image_train_path, f))]\n"
   ]
  },
  {
   "cell_type": "code",
   "execution_count": 26,
   "metadata": {},
   "outputs": [],
   "source": [
    "x_train = np.zeros([len(train_files), 256])\n",
    "y_train = np.zeros([len(train_files), 1])\n",
    "for index,file in enumerate(train_files):\n",
    "    label = file.split('_')[0] \n",
    "    img = cv2.imread(image_train_path + \"\\\\\" + file, cv2.IMREAD_GRAYSCALE)\n",
    "    img = np.reshape(img, [256, 1])\n",
    "    x_train[index, :] = img.ravel()\n",
    "    y_train[index] = int(label)"
   ]
  },
  {
   "attachments": {},
   "cell_type": "markdown",
   "metadata": {},
   "source": [
    "Load Test Images"
   ]
  },
  {
   "cell_type": "code",
   "execution_count": 27,
   "metadata": {},
   "outputs": [],
   "source": [
    "image_test_path = 'D:\\\\term6\\\\AI\\\\Project4\\\\Part2\\\\images\\\\test'\n",
    "test_files = [f for f in listdir(image_test_path) if isfile(join(image_test_path, f))]"
   ]
  },
  {
   "cell_type": "code",
   "execution_count": 28,
   "metadata": {},
   "outputs": [],
   "source": [
    "x_test = np.zeros([len(test_files), 256])\n",
    "y_test = np.zeros([len(test_files), 1])\n",
    "\n",
    "for index,file in enumerate(test_files):\n",
    "    label = file.split('_')[0] \n",
    "    img = cv2.imread(image_test_path + \"\\\\\" + file, cv2.IMREAD_GRAYSCALE)\n",
    "    img = np.reshape(img, [256, 1])\n",
    "    x_test[index, :] = img.ravel()\n",
    "    y_test[index] = int(label)"
   ]
  },
  {
   "cell_type": "code",
   "execution_count": 29,
   "metadata": {},
   "outputs": [
    {
     "name": "stdout",
     "output_type": "stream",
     "text": [
      "0.9362232187344295\n"
     ]
    }
   ],
   "source": [
    "model = svm.SVC(kernel='poly')\n",
    "model.fit(x_train, y_train.ravel())\n",
    "predict_result = model.predict(x_test)\n",
    "\n",
    "count = 0\n",
    "total = len(predict_result)\n",
    "for i in range(len(y_test)):\n",
    "    if y_test[i]==predict_result[i]:\n",
    "        count+=1\n",
    "print(count/total)"
   ]
  },
  {
   "cell_type": "code",
   "execution_count": 30,
   "metadata": {},
   "outputs": [
    {
     "name": "stdout",
     "output_type": "stream",
     "text": [
      "0.9267563527653214\n"
     ]
    }
   ],
   "source": [
    "model = svm.SVC(kernel='linear')\n",
    "model.fit(x_train, y_train.ravel())\n",
    "predict_result = model.predict(x_test)\n",
    "\n",
    "count = 0\n",
    "total = len(predict_result)\n",
    "for i in range(len(y_test)):\n",
    "    if y_test[i]==predict_result[i]:\n",
    "        count+=1\n",
    "print(count/total)"
   ]
  },
  {
   "cell_type": "code",
   "execution_count": 31,
   "metadata": {},
   "outputs": [
    {
     "name": "stdout",
     "output_type": "stream",
     "text": [
      "0.9481813652217239\n"
     ]
    }
   ],
   "source": [
    "model = svm.SVC(kernel='rbf')\n",
    "model.fit(x_train, y_train.ravel())\n",
    "predict_result = model.predict(x_test)\n",
    "\n",
    "count = 0\n",
    "total = len(predict_result)\n",
    "for i in range(len(y_test)):\n",
    "    if y_test[i]==predict_result[i]:\n",
    "        count+=1\n",
    "print(count/total)"
   ]
  }
 ],
 "metadata": {
  "kernelspec": {
   "display_name": "base",
   "language": "python",
   "name": "python3"
  },
  "language_info": {
   "codemirror_mode": {
    "name": "ipython",
    "version": 3
   },
   "file_extension": ".py",
   "mimetype": "text/x-python",
   "name": "python",
   "nbconvert_exporter": "python",
   "pygments_lexer": "ipython3",
   "version": "3.9.12"
  },
  "orig_nbformat": 4
 },
 "nbformat": 4,
 "nbformat_minor": 2
}
